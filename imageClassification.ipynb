{
 "cells": [
  {
   "cell_type": "code",
   "execution_count": 1,
   "id": "4a2f7f12",
   "metadata": {},
   "outputs": [],
   "source": [
    "# Import necessary libraries\n",
    "import numpy as np\n",
    "import pandas as pd\n",
    "from sklearn.model_selection import train_test_split\n"
   ]
  },
  {
   "cell_type": "code",
   "execution_count": 2,
   "id": "61aba3af",
   "metadata": {},
   "outputs": [],
   "source": [
    "#tensorflow as machine learning frameworks\n",
    "import tensorflow as tf\n",
    "from tensorflow.keras.preprocessing.image import ImageDataGenerator\n",
    "from tensorflow.keras.models import Sequential\n",
    "from tensorflow.keras.layers import Conv2D, MaxPooling2D, Flatten, Dense"
   ]
  },
  {
   "cell_type": "code",
   "execution_count": 3,
   "id": "e384e97f",
   "metadata": {},
   "outputs": [],
   "source": [
    "import os"
   ]
  },
  {
   "cell_type": "code",
   "execution_count": 4,
   "id": "ad63372e",
   "metadata": {},
   "outputs": [],
   "source": [
    "# Define your data directories\n",
    "#'path_to_your_data'\n",
    "data_dir = 'imageData'\n",
    "\n",
    "train_dir = os.path.join(data_dir, 'train')\n",
    "validation_dir = os.path.join(data_dir, 'validation')\n",
    "test_dir = os.path.join(data_dir, 'test')"
   ]
  },
  {
   "cell_type": "code",
   "execution_count": 5,
   "id": "77ddd1dc",
   "metadata": {},
   "outputs": [],
   "source": [
    "# Define your batch size\n",
    "batch_size = 32\n",
    "\n",
    "# Define your image size\n",
    "img_height = 150\n",
    "img_width = 150"
   ]
  },
  {
   "cell_type": "code",
   "execution_count": 6,
   "id": "69efd57a",
   "metadata": {},
   "outputs": [
    {
     "name": "stdout",
     "output_type": "stream",
     "text": [
      "Found 14034 images belonging to 6 classes.\n",
      "Found 0 images belonging to 0 classes.\n",
      "Found 3000 images belonging to 6 classes.\n"
     ]
    }
   ],
   "source": [
    "# Define your data generators with default parameter \n",
    "train_datagen = ImageDataGenerator(\n",
    "      rescale=1./255,\n",
    "      rotation_range=40,\n",
    "      width_shift_range=0.2,\n",
    "      height_shift_range=0.2,\n",
    "      shear_range=0.2,\n",
    "      zoom_range=0.2,\n",
    "      horizontal_flip=True,\n",
    "      fill_mode='nearest')\n",
    "\n",
    "validation_datagen = ImageDataGenerator(rescale=1./255)\n",
    "test_datagen = ImageDataGenerator(rescale=1./255)\n",
    "\n",
    "train_generator = train_datagen.flow_from_directory(\n",
    "        train_dir,\n",
    "        target_size=(img_height, img_width),\n",
    "        batch_size=batch_size,\n",
    "        class_mode='categorical')\n",
    "\n",
    "validation_generator = validation_datagen.flow_from_directory(\n",
    "        validation_dir,\n",
    "        target_size=(img_height, img_width),\n",
    "        batch_size=batch_size,\n",
    "        class_mode='categorical')\n",
    "\n",
    "test_generator = test_datagen.flow_from_directory(\n",
    "        test_dir,\n",
    "        target_size=(img_height, img_width),\n",
    "        batch_size=batch_size,\n",
    "        class_mode='categorical',\n",
    "        shuffle=False)"
   ]
  },
  {
   "cell_type": "code",
   "execution_count": 7,
   "id": "028d9a6f",
   "metadata": {},
   "outputs": [],
   "source": [
    "# Basic model with 3 convelational layers\n",
    "model = Sequential([\n",
    "    Conv2D(32, (3, 3), activation='relu', input_shape=(150, 150, 3)),\n",
    "    MaxPooling2D(pool_size=(2, 2)),\n",
    "\n",
    "    Conv2D(64, (3, 3), activation='relu'),\n",
    "    MaxPooling2D(pool_size=(2, 2)),\n",
    "    Conv2D(64, (3, 3), activation='relu'),\n",
    "    MaxPooling2D(pool_size=(2, 2)),\n",
    "\n",
    "    Flatten(),\n",
    "    Dense(6, activation='softmax')  # 6 classes for 0,1,2,3,4,5\n",
    "])\n",
    "\n",
    "# Compile\n",
    "model.compile(optimizer='adam',\n",
    "              loss='categorical_crossentropy',\n",
    "              metrics=['accuracy'])"
   ]
  },
  {
   "cell_type": "code",
   "execution_count": 11,
   "id": "dbb1bc3c",
   "metadata": {},
   "outputs": [
    {
     "name": "stdout",
     "output_type": "stream",
     "text": [
      "439/439 [==============================] - 428s 976ms/step - loss: 1.1017 - accuracy: 0.5683\n",
      "94/94 [==============================] - 21s 224ms/step - loss: 0.8857 - accuracy: 0.6767\n"
     ]
    }
   ],
   "source": [
    "model.fit(train_generator, epochs=1, validation_data=validation_generator)\n",
    "test_loss, test_acc = model.evaluate(test_generator)"
   ]
  },
  {
   "cell_type": "code",
   "execution_count": 12,
   "id": "7f6fce19",
   "metadata": {},
   "outputs": [],
   "source": [
    "# Saveing\n",
    "model.save('my_model.h5')"
   ]
  },
  {
   "cell_type": "code",
   "execution_count": 13,
   "id": "8d84b395",
   "metadata": {},
   "outputs": [],
   "source": [
    "# Save the model weights\n",
    "model.save_weights('my_model_weights.h5')"
   ]
  },
  {
   "cell_type": "markdown",
   "id": "7b43a06e",
   "metadata": {},
   "source": [
    "# Compare my model with pre-trained models, Xception and ResNet50."
   ]
  },
  {
   "cell_type": "code",
   "execution_count": 14,
   "id": "acefcaef",
   "metadata": {},
   "outputs": [],
   "source": [
    "#Xception pretraind Model\n",
    "from tensorflow.keras.applications import Xception\n",
    "from tensorflow.keras.models import Model\n",
    "from tensorflow.keras.layers import Dense, GlobalAveragePooling2D\n",
    "from tensorflow.keras.optimizers import Adam"
   ]
  },
  {
   "cell_type": "code",
   "execution_count": 16,
   "id": "390cab89",
   "metadata": {},
   "outputs": [
    {
     "name": "stderr",
     "output_type": "stream",
     "text": [
      "WARNING:absl:`lr` is deprecated, please use `learning_rate` instead, or use the legacy optimizer, e.g.,tf.keras.optimizers.legacy.Adam.\n"
     ]
    },
    {
     "name": "stdout",
     "output_type": "stream",
     "text": [
      "439/439 [==============================] - 961s 2s/step - loss: 0.4962 - accuracy: 0.8187\n",
      "94/94 [==============================] - 148s 2s/step - loss: 0.3154 - accuracy: 0.8833\n"
     ]
    }
   ],
   "source": [
    "# Load the pre-trained Xception model\n",
    "xception = Xception(weights='imagenet', include_top=False)\n",
    "\n",
    "# Add a global average pooling layer and a dense output layer\n",
    "x = xception.output\n",
    "x = GlobalAveragePooling2D()(x)\n",
    "x = Dense(1024, activation='relu')(x)  # Add a dense hidden layer (optional)\n",
    "predictions = Dense(6, activation='softmax')(x)  # 6 classes for 0,1,2,3,4,5\n",
    "\n",
    "# Define the new model\n",
    "xception_model = Model(inputs=xception.input, outputs=predictions)\n",
    "\n",
    "# Freeze the layers of the pre-trained model\n",
    "for layer in xception_model.layers[:-3]:\n",
    "    layer.trainable = False\n",
    "\n",
    "# Compile the model\n",
    "xception_model.compile(optimizer=Adam(lr=0.0001), loss='categorical_crossentropy', metrics=['accuracy'])\n",
    "\n",
    "# Train the model\n",
    "xception_model.fit(train_generator, epochs=1, validation_data=validation_generator)\n",
    "\n",
    "# Evaluate the model\n",
    "xception_test_loss, xception_test_acc = xception_model.evaluate(test_generator)"
   ]
  },
  {
   "cell_type": "code",
   "execution_count": 17,
   "id": "18a2c9ee",
   "metadata": {},
   "outputs": [],
   "source": [
    "# Load the pre-trained ResNet50 model\n",
    "from tensorflow.keras.applications import ResNet50\n"
   ]
  },
  {
   "cell_type": "code",
   "execution_count": 18,
   "id": "7cb94326",
   "metadata": {},
   "outputs": [
    {
     "name": "stderr",
     "output_type": "stream",
     "text": [
      "WARNING:absl:`lr` is deprecated, please use `learning_rate` instead, or use the legacy optimizer, e.g.,tf.keras.optimizers.legacy.Adam.\n"
     ]
    },
    {
     "name": "stdout",
     "output_type": "stream",
     "text": [
      "439/439 [==============================] - 754s 2s/step - loss: 1.5265 - accuracy: 0.3548\n",
      "94/94 [==============================] - 141s 1s/step - loss: 1.3198 - accuracy: 0.4220\n"
     ]
    }
   ],
   "source": [
    "# Load the pre-trained ResNet50 model\n",
    "resnet = ResNet50(weights='imagenet', include_top=False)\n",
    "\n",
    "# Add a global average pooling layer and a dense output layer\n",
    "x = resnet.output\n",
    "x = GlobalAveragePooling2D()(x)\n",
    "x = Dense(1024, activation='relu')(x)  # Add a dense hidden layer (optional)\n",
    "predictions = Dense(6, activation='softmax')(x)  # 6 classes for 0,1,2,3,4,5\n",
    "\n",
    "# Define the new model\n",
    "resnet_model = Model(inputs=resnet.input, outputs=predictions)\n",
    "\n",
    "# Freeze the layers of the pre-trained model\n",
    "for layer in resnet_model.layers[:-3]:\n",
    "    layer.trainable = False\n",
    "\n",
    "# Compile the model\n",
    "resnet_model.compile(optimizer=Adam(lr=0.0001), loss='categorical_crossentropy', metrics=['accuracy'])\n",
    "\n",
    "# Train the model\n",
    "resnet_model.fit(train_generator, epochs=1, validation_data=validation_generator)\n",
    "\n",
    "# Evaluate the model\n",
    "resnet_test_loss, resnet_test_acc = resnet_model.evaluate(test_generator)"
   ]
  },
  {
   "cell_type": "markdown",
   "id": "ff58e8c6",
   "metadata": {},
   "source": [
    "# Inference on a new image using trained models"
   ]
  },
  {
   "cell_type": "code",
   "execution_count": 20,
   "id": "848a4a96",
   "metadata": {},
   "outputs": [
    {
     "name": "stdout",
     "output_type": "stream",
     "text": [
      "1/1 [==============================] - 0s 31ms/step\n",
      "1/1 [==============================] - 0s 74ms/step\n",
      "1/1 [==============================] - 0s 77ms/step\n",
      "Model 1 predictions: [[1.1199812e-02 2.1843417e-03 8.4777065e-03 9.6888876e-01 8.5010594e-03\n",
      "  7.4834685e-04]]\n",
      "Model 2 predictions: [[8.4445765e-06 1.5274829e-05 1.5310109e-01 8.4686631e-01 6.4953374e-06\n",
      "  2.3556297e-06]]\n",
      "Model 3 predictions: [[0.06547568 0.08508906 0.29942095 0.17955221 0.25603646 0.11442565]]\n",
      "Category:: 0 for buildings, 1 for forest, 2 for glacier, 3 formountain, 4 for sea, and 5 for street\n"
     ]
    }
   ],
   "source": [
    "from tensorflow.keras.preprocessing import image\n",
    "import numpy as np\n",
    "\n",
    "# Load the image\n",
    "img_path = '52.jpg'\n",
    "#img_path = 'test.jpg'\n",
    "img = image.load_img(img_path, target_size=(150, 150))\n",
    "\n",
    "# Preprocess the image\n",
    "img_array = image.img_to_array(img)\n",
    "img_array = np.expand_dims(img_array, axis=0)\n",
    "img_array /= 255.0  # Scale pixel values to the range [0, 1]\n",
    "\n",
    "# Make a prediction using the first model\n",
    "predictions1 = model.predict(img_array)\n",
    "\n",
    "# Make a prediction using the second model\n",
    "predictions2 = xception_model.predict(img_array)\n",
    "\n",
    "# Make a prediction using the third model\n",
    "predictions3 = resnet_model.predict(img_array)\n",
    "\n",
    "# Print the predictions\n",
    "print('Model 1 predictions:', predictions1)\n",
    "print('Model 2 predictions:', predictions2)\n",
    "print('Model 3 predictions:', predictions3)\n",
    "print(\"Category:: 0 for buildings, 1 for forest, 2 for glacier, 3 formountain, 4 for sea, and 5 for street\")"
   ]
  },
  {
   "cell_type": "code",
   "execution_count": 23,
   "id": "6c2dea36",
   "metadata": {},
   "outputs": [
    {
     "name": "stdout",
     "output_type": "stream",
     "text": [
      "model 1 predicted class: 3\n",
      "xception_model predicted class: 3\n",
      "resnet_model predicted class: 2\n",
      "Category:: 0 for buildings, 1 for forest, 2 for glacier, 3 formountain, 4 for sea, and 5 for street\n"
     ]
    }
   ],
   "source": [
    "# Get the index of the predicted class for the first model\n",
    "predicted_class1 = np.argmax(predictions1)\n",
    "\n",
    "# Get the index of the predicted class for the second model\n",
    "predicted_class2 = np.argmax(predictions2)\n",
    "\n",
    "# Get the index of the predicted class for the third model\n",
    "predicted_class3 = np.argmax(predictions3)\n",
    "\n",
    "# Print the predicted classes\n",
    "print('model 1 predicted class:', predicted_class1)\n",
    "print('xception_model predicted class:', predicted_class2)\n",
    "print('resnet_model predicted class:', predicted_class3)\n",
    "print(\"Category:: 0 for buildings, 1 for forest, 2 for glacier, 3 formountain, 4 for sea, and 5 for street\")"
   ]
  },
  {
   "cell_type": "code",
   "execution_count": null,
   "id": "9f04e34b",
   "metadata": {},
   "outputs": [],
   "source": []
  }
 ],
 "metadata": {
  "kernelspec": {
   "display_name": "Python 3 (ipykernel)",
   "language": "python",
   "name": "python3"
  },
  "language_info": {
   "codemirror_mode": {
    "name": "ipython",
    "version": 3
   },
   "file_extension": ".py",
   "mimetype": "text/x-python",
   "name": "python",
   "nbconvert_exporter": "python",
   "pygments_lexer": "ipython3",
   "version": "3.9.16"
  }
 },
 "nbformat": 4,
 "nbformat_minor": 5
}
